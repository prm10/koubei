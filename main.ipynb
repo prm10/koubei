{
 "cells": [
  {
   "cell_type": "code",
   "execution_count": 1,
   "metadata": {},
   "outputs": [
    {
     "name": "stdout",
     "output_type": "stream",
     "text": [
      "1081724\n   user_id  merchant_id  location_id  time_stamp\n0  1027765         4822          172    20151028\n1   141398         4822          172    20151115\n2   141398         4822          172    20151005\n3  1027765         4822          172    20151026\n4   141398         4822          172    20151011\n5910\n   merchant_id  budget location_id_list\n0          128     331              180\n1         3712     100               34\n2         1409     100              317\n3         3201     100              337\n4         8577     100              178\n473533\n   user_id  location_id\n0   753792          112\n1  1278336          178\n2  1409408          461\n3   492160          214\n4  1671808          481\n"
     ]
    }
   ],
   "source": [
    "import pandas as pd\n",
    "import numpy as np\n",
    "\n",
    "train_data = pd.read_csv('data/ijcai2016_koubei_train', header=None)\n",
    "train_data.columns = ['user_id', 'merchant_id', 'location_id', 'time_stamp']\n",
    "print len(train_data)\n",
    "print train_data.head()\n",
    "\n",
    "merchant_info = pd.read_csv('data/ijcai2016_merchant_info', header=None)\n",
    "merchant_info.columns = ['merchant_id', 'budget', 'location_id_list']\n",
    "print len(merchant_info)\n",
    "print merchant_info.head()\n",
    "\n",
    "test_data = pd.read_csv('data/ijcai2016_koubei_test', header=None)\n",
    "test_data.columns = ['user_id', 'location_id']\n",
    "print len(test_data)\n",
    "print test_data.head()"
   ]
  },
  {
   "cell_type": "code",
   "execution_count": 2,
   "metadata": {},
   "outputs": [
    {
     "name": "stdout",
     "output_type": "stream",
     "text": [
      "   location_id  merchant_id  count\n0            1         1225      2\n1            1         3222      3\n2            1         3780      2\n3            1         4417      3\n4            1         7547      2\n5            1         9973      3\n6            2          500    210\n7            2         1556   2799\n8            2         2606     10\n9            2         4233      2\n"
     ]
    }
   ],
   "source": [
    "location_merchant_count = train_data\\\n",
    "\t.groupby(by=['location_id', 'merchant_id'])\\\n",
    "\t.size()\\\n",
    "\t.reset_index()\\\n",
    "\t.rename(columns={0:'count'})\n",
    "# print len(location_merchant_count)\n",
    "print location_merchant_count.head(10)\n",
    "# print location_merchant_count.columns"
   ]
  },
  {
   "cell_type": "code",
   "execution_count": 3,
   "metadata": {},
   "outputs": [
    {
     "name": "stdout",
     "output_type": "stream",
     "text": [
      "   location_id             merchant_list\n0            1  3222:4417:9973:1225:3780\n1            2   1556:500:8733:5805:2606\n2            4       6344:2043:3266:9480\n3            5                       609\n4            6    820:4264:171:2606:9485\n"
     ]
    }
   ],
   "source": [
    "location_merchant_list = location_merchant_count.groupby('location_id').apply(\n",
    "\tlambda s: \n",
    "\tnp.array2string(\n",
    "\t\ts['merchant_id'][s['count'].nlargest(5).index].values, separator=':'\n",
    "\t)[1:-1].replace(' ','')\n",
    ").reset_index()\\\n",
    "\t.rename(columns={0:'merchant_list'})\n",
    "print location_merchant_list.head()"
   ]
  },
  {
   "cell_type": "code",
   "execution_count": 44,
   "metadata": {},
   "outputs": [
    {
     "name": "stdout",
     "output_type": "stream",
     "text": [
      "    user_id  location_id merchant_list\n0         4          254          3527\n1        22          371          4264\n2        38          272           820\n3        42          337           820\n4        46          348          9236\n5        55          438           820\n6        89          188          7667\n7        97           84          3538\n8       108           30          8646\n9       114           60          5231\n10      123          308          7755\n11      128           52          9485\n12      129          102           210\n13      136          188     7194:7312\n14      159          138      221:8898\n15      161           76          7682\n16      165          371          5231\n17      171           65           959\n18      178          438           820\n19      189          368          9968\n"
     ]
    }
   ],
   "source": [
    "history_place=train_data[['user_id', 'location_id', 'merchant_id']]\\\n",
    "\t.drop_duplicates()\\\n",
    "\t.groupby(by=['user_id','location_id'])\\\n",
    "\t.apply(\n",
    "\tlambda s:\n",
    "\tnp.array2string(s['merchant_id'].values,separator=':')\n",
    "\t[1:-1].replace(' ',''))\\\n",
    "\t.reset_index()\\\n",
    "\t.rename(columns={0:'merchant_list'})\n",
    "print history_place.head(20)"
   ]
  },
  {
   "cell_type": "code",
   "execution_count": 84,
   "metadata": {},
   "outputs": [],
   "source": [
    "def get_top_10(group):\n",
    "\tuser_id=group['user_id']\n",
    "\tlocation_id=group['location_id']\n",
    "\this=group['merchant_list_x']\n",
    "\thot=group['merchant_list_y']\n",
    "\tif pd.isnull(his):\n",
    "\t\tif pd.isnull(hot):\n",
    "\t\t\treturn \n",
    "\t\telse:\n",
    "\t\t\tgroup['merchant_id_list']=':'.join(hot.split(':')[0:10])\n",
    "\t\t\treturn group\n",
    "\telse:\n",
    "\t\tif pd.isnull(hot):\n",
    "\t\t\tgroup['merchant_id_list']=':'.join(his.split(':')[0:10])\n",
    "\t\t\treturn group\n",
    "\t\telse:\n",
    "\t\t\tgroup['merchant_id_list']=':'.join((his+':'+hot).split(':')[0:10])\n",
    "\t\t\treturn group\n",
    "\n",
    "same_place = test_data\\\n",
    "\t.merge(history_place, on=['user_id', 'location_id'], how='left')\\\n",
    "\t.merge(location_merchant_list, on='location_id',how='left')\\\n",
    "\t.apply(get_top_10,axis=1)\n",
    "print len(same_place)\n",
    "print same_place.head(10)"
   ]
  },
  {
   "cell_type": "markdown",
   "metadata": {},
   "source": [
    "把train中存在的(user_id,location_id,merchant_id)作为预测\n",
    "剩下的(user_id,location_id)取该location中hottest的top n个merchant_id"
   ]
  },
  {
   "cell_type": "code",
   "execution_count": 1,
   "metadata": {},
   "outputs": [
    {
     "ename": "NameError",
     "evalue": "name 'test_data' is not defined",
     "traceback": [
      "\u001b[1;31m\u001b[0m",
      "\u001b[1;31mNameError\u001b[0mTraceback (most recent call last)",
      "\u001b[1;32m<ipython-input-1-36db4a2a6fa6>\u001b[0m in \u001b[0;36m<module>\u001b[1;34m()\u001b[0m\n\u001b[1;32m----> 1\u001b[1;33m \u001b[0mtest_data\u001b[0m\u001b[1;33m.\u001b[0m\u001b[0mix\u001b[0m\u001b[1;33m[\u001b[0m\u001b[1;36m0\u001b[0m\u001b[1;33m]\u001b[0m\u001b[1;33m\u001b[0m\u001b[0m\n\u001b[0m",
      "\u001b[1;31mNameError\u001b[0m: name 'test_data' is not defined"
     ],
     "output_type": "error"
    }
   ],
   "source": [
    "test_data.ix[0]"
   ]
  },
  {
   "cell_type": "code",
   "execution_count": null,
   "metadata": {},
   "outputs": [],
   "source": [
    ""
   ]
  }
 ],
 "metadata": {},
 "nbformat": 4,
 "nbformat_minor": 0
}