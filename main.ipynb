{
 "cells": [
  {
   "cell_type": "code",
   "execution_count": 1,
   "metadata": {},
   "outputs": [
    {
     "name": "stdout",
     "output_type": "stream",
     "text": [
      "1081724\n   user_id  merchant_id  location_id  time_stamp\n0  1027765         4822          172    20151028\n1   141398         4822          172    20151115\n2   141398         4822          172    20151005\n3  1027765         4822          172    20151026\n4   141398         4822          172    20151011\n5910\n   merchant_id  budget location_id_list\n0          128     331              180\n1         3712     100               34\n2         1409     100              317\n3         3201     100              337\n4         8577     100              178\n473533\n   user_id  location_id\n0   753792          112\n1  1278336          178\n2  1409408          461\n3   492160          214\n4  1671808          481\n"
     ]
    }
   ],
   "source": [
    "import pandas as pd\n",
    "import numpy as np\n",
    "\n",
    "train_data = pd.read_csv('data/ijcai2016_koubei_train', header=None)\n",
    "train_data.columns = ['user_id', 'merchant_id', 'location_id', 'time_stamp']\n",
    "print len(train_data)\n",
    "print train_data.head()\n",
    "\n",
    "merchant_info = pd.read_csv('data/ijcai2016_merchant_info', header=None)\n",
    "merchant_info.columns = ['merchant_id', 'budget', 'location_id_list']\n",
    "print len(merchant_info)\n",
    "print merchant_info.head()\n",
    "\n",
    "test_data = pd.read_csv('data/ijcai2016_koubei_test', header=None)\n",
    "test_data.columns = ['user_id', 'location_id']\n",
    "print len(test_data)\n",
    "print test_data.head()"
   ]
  },
  {
   "cell_type": "code",
   "execution_count": 7,
   "metadata": {},
   "outputs": [
    {
     "name": "stdout",
     "output_type": "stream",
     "text": [
      "45934\n"
     ]
    }
   ],
   "source": [
    "same_place = pd.merge(train_data[['user_id', 'location_id']].drop_duplicates(), test_data,\n",
    "                      on=['user_id', 'location_id'], how='inner')\n",
    "print len(same_place)\n"
   ]
  },
  {
   "cell_type": "code",
   "execution_count": null,
   "metadata": {},
   "outputs": [],
   "source": [
    ""
   ]
  }
 ],
 "metadata": {},
 "nbformat": 4,
 "nbformat_minor": 0
}